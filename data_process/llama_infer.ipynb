{
 "cells": [
  {
   "cell_type": "code",
   "execution_count": 3,
   "metadata": {},
   "outputs": [
    {
     "data": {
      "application/vnd.jupyter.widget-view+json": {
       "model_id": "7695753d4ad44dccb1aa379d5fa39b27",
       "version_major": 2,
       "version_minor": 0
      },
      "text/plain": [
       "Loading checkpoint shards:   0%|          | 0/4 [00:00<?, ?it/s]"
      ]
     },
     "metadata": {},
     "output_type": "display_data"
    }
   ],
   "source": [
    "import transformers\n",
    "from transformers import AutoTokenizer, LlamaForCausalLM, AutoModelForCausalLM\n",
    "\n",
    "model_name_or_path = \"/home/jye/huggingface/pretrained_model/Meta-Llama-3-8B-Instruct/\"\n",
    "\n",
    "model = AutoModelForCausalLM.from_pretrained(model_name_or_path, )"
   ]
  },
  {
   "cell_type": "code",
   "execution_count": 2,
   "metadata": {},
   "outputs": [
    {
     "name": "stderr",
     "output_type": "stream",
     "text": [
      "Special tokens have been added in the vocabulary, make sure the associated word embeddings are fine-tuned or trained.\n"
     ]
    }
   ],
   "source": [
    "tokenizer = AutoTokenizer.from_pretrained(model_name_or_path)"
   ]
  },
  {
   "cell_type": "code",
   "execution_count": null,
   "metadata": {},
   "outputs": [],
   "source": [
    "import transformers\n",
    "import torch\n",
    "import os\n",
    "from modelscope import snapshot_download\n",
    "model_id = snapshot_download(\"LLM-Research/Meta-Llama-3-8B-Instruct\")\n",
    "pipeline = transformers.pipeline(\n",
    "    \"text-generation\",\n",
    "    model=model_id,\n",
    "    model_kwargs={\"torch_dtype\": torch.float16},\n",
    "    device=\"cuda:6\",\n",
    ")"
   ]
  },
  {
   "cell_type": "code",
   "execution_count": null,
   "metadata": {},
   "outputs": [],
   "source": [
    "messages = [\n",
    "    {\"role\": \"system\", \"content\": \"You are a pirate chatbot who always responds in pirate speak!\"},\n",
    "    {\"role\": \"user\", \"content\": \"Who are you?\"},\n",
    "]\n",
    "\n",
    "prompt = pipeline.tokenizer.apply_chat_template(\n",
    "      messages,\n",
    "      tokenize=False,\n",
    "      add_generation_prompt=True\n",
    ")\n",
    "\n",
    "terminators = [\n",
    "      pipeline.tokenizer.eos_token_id,\n",
    "      pipeline.tokenizer.convert_tokens_to_ids(\"<|eot_id|>\"),\n",
    "]\n",
    "\n",
    "outputs = pipeline(\n",
    "        prompt,\n",
    "        max_new_tokens=2048,\n",
    "        eos_token_id=terminators,\n",
    "        do_sample=False,\n",
    "        temperature=0.6,\n",
    "        top_p=1,\n",
    "        repetition_penalty=1.05\n",
    ")\n",
    "print(outputs[0][\"generated_text\"][len(prompt):])\n"
   ]
  },
  {
   "cell_type": "code",
   "execution_count": null,
   "metadata": {},
   "outputs": [],
   "source": [
    "outputs"
   ]
  },
  {
   "cell_type": "code",
   "execution_count": null,
   "metadata": {},
   "outputs": [],
   "source": [
    "from vllm import LLM, SamplingParams\n",
    "import torch\n",
    "\n",
    "# model_id = \"/home/jye/huggingface/pretrained_model/Meta-Llama-3-8B-Instruct\"\n",
    "\n",
    "llm = LLM(\n",
    "    model=model_id,\n",
    "    tensor_parallel_size=2,\n",
    "    dtype=torch.float16,\n",
    ")\n",
    "\n",
    "tokenizer = llm.get_tokenizer()\n",
    "\n",
    "conversations = tokenizer.apply_chat_template(\n",
    "    [{'role':'user', 'content':'Hello!'}],\n",
    "    tokenize=False,\n",
    ")\n",
    "\n",
    "outputs = llm.generate(\n",
    "    [conversations],\n",
    "    SamplingParams(\n",
    "        max_length=1048,\n",
    "        temperature=0.6,\n",
    "        top_p=0.9,\n",
    "        repetition_penalty=1.05,\n",
    "        stop_token_ids=[tokenizer.eos_token_id, tokenizer.convert_tokens_to_ids(\"<|eot_id|>\"), 128001, 128009]\n",
    "    )\n",
    ")"
   ]
  },
  {
   "cell_type": "code",
   "execution_count": null,
   "metadata": {},
   "outputs": [],
   "source": [
    "import json\n",
    "\n",
    "# read jsonl \n",
    "with open('/home/jye/learn/LLM-Factory/data/IEMOCAP_0_8.jsonl') as f:\n",
    "    data = [json.loads(line) for line in f]"
   ]
  },
  {
   "cell_type": "code",
   "execution_count": 6,
   "metadata": {},
   "outputs": [],
   "source": [
    "from datasets import load_dataset, load_from_disk\n",
    "\n",
    "local_dataset = load_from_disk(\"/home/jye/huggingface/datasets/Universal-NER/Pile-NER-type\")\n"
   ]
  },
  {
   "cell_type": "code",
   "execution_count": 7,
   "metadata": {},
   "outputs": [
    {
     "name": "stdout",
     "output_type": "stream",
     "text": [
      "{'id': 'ner_0', 'conversations': [{'from': 'human', 'value': 'Text: Q:\\n\\nPosition character based on enemy coordinates in lua\\n\\nI have written a function here which should turn my character based on enemy coordinates but it\\'s not perfect because it does not always turn where I want it to and perhaps there is a better way of writing it\\nlocal myPosition = {x = 350, y = 355}\\nlocal enemyPosition = {x = 352, y = 354}\\nlocal xValue, yValue, xDir, yDir, dir\\n\\nif myPosition.x > enemyPosition.x then\\n    xValue = myPosition.x - enemyPosition.x\\nelseif myPosition.x < enemyPosition.x then\\n    xValue = myPosition.x - enemyPosition.x\\nelse\\n    xValue = 0\\nend\\n\\nif myPosition.y > enemyPosition.y then\\n    yValue = myPosition.y - enemyPosition.y\\nelseif myPosition.y < enemyPosition.y then\\n    yValue = myPosition.y - enemyPosition.y\\nelse\\n    yValue = 0\\nend\\n\\nif xValue < 0 then\\n    xDir = \"TURN RIGHT\"\\nelseif xValue > 0 then\\n    xDir = \"TURN LEFT\"\\nend\\n\\nif yValue < 0 then\\n    yDir = \"TURN DOWN\"\\nelseif yValue > 0 then\\n    yDir = \"TURN UP\"\\nend\\n\\nif xValue > yValue then\\n    dir = xDir\\nelseif xValue \\n    dir = yDir\\nend\\n\\nprint(\"Turn: \" .. dir)\\n\\nAnd here you have some pictures to further illustrate what I have in mind:\\n\\nAs you can see on the pictures, direction depends on the higher number.'}, {'from': 'gpt', 'value': \"I've read this text.\"}, {'from': 'human', 'value': 'What describes programming concept in the text?'}, {'from': 'gpt', 'value': '[\"function\"]'}, {'from': 'human', 'value': 'What describes programming language in the text?'}, {'from': 'gpt', 'value': '[\"lua\"]'}, {'from': 'human', 'value': 'What describes database in the text?'}, {'from': 'gpt', 'value': '[]'}, {'from': 'human', 'value': 'What describes variable in the text?'}, {'from': 'gpt', 'value': '[\"myPosition\", \"enemyPosition\", \"xValue\", \"yValue\", \"xDir\", \"yDir\", \"dir\"]'}, {'from': 'human', 'value': 'What describes Date in the text?'}, {'from': 'gpt', 'value': '[]'}]}\n"
     ]
    }
   ],
   "source": [
    "print(local_dataset['train'][0])"
   ]
  }
 ],
 "metadata": {
  "kernelspec": {
   "display_name": "abc",
   "language": "python",
   "name": "python3"
  },
  "language_info": {
   "codemirror_mode": {
    "name": "ipython",
    "version": 3
   },
   "file_extension": ".py",
   "mimetype": "text/x-python",
   "name": "python",
   "nbconvert_exporter": "python",
   "pygments_lexer": "ipython3",
   "version": "3.8.17"
  }
 },
 "nbformat": 4,
 "nbformat_minor": 2
}
